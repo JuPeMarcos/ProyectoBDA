{
 "cells": [
  {
   "cell_type": "markdown",
   "id": "ae73cd758b5b50b6",
   "metadata": {},
   "source": [
    "RandomForestClassifier"
   ]
  },
  {
   "cell_type": "code",
   "execution_count": 1,
   "id": "65483d0e58afd0da",
   "metadata": {
    "ExecuteTime": {
     "end_time": "2024-05-29T15:43:19.423577Z",
     "start_time": "2024-05-29T15:42:00.033627Z"
    }
   },
   "outputs": [
    {
     "name": "stderr",
     "output_type": "stream",
     "text": [
      "C:\\Users\\Marcos\\AppData\\Local\\Temp\\ipykernel_4448\\636070814.py:1: DeprecationWarning: \n",
      "Pyarrow will become a required dependency of pandas in the next major release of pandas (pandas 3.0),\n",
      "(to allow more performant data types, such as the Arrow string type, and better interoperability with other libraries)\n",
      "but was not found to be installed on your system.\n",
      "If this would cause problems for you,\n",
      "please provide us feedback at https://github.com/pandas-dev/pandas/issues/54466\n",
      "        \n",
      "  import pandas as pd\n"
     ]
    },
    {
     "name": "stdout",
     "output_type": "stream",
     "text": [
      "Reporte de clasificación para RandomForestClassifier:\n",
      "              precision    recall  f1-score   support\n",
      "\n",
      "           0       1.00      1.00      1.00    119403\n",
      "           1       1.00      1.00      1.00       597\n",
      "\n",
      "    accuracy                           1.00    120000\n",
      "   macro avg       1.00      1.00      1.00    120000\n",
      "weighted avg       1.00      1.00      1.00    120000\n",
      "\n"
     ]
    }
   ],
   "source": [
    "import pandas as pd\n",
    "from sklearn.model_selection import train_test_split\n",
    "from sklearn.ensemble import RandomForestClassifier\n",
    "from sklearn.metrics import classification_report\n",
    "import joblib\n",
    "\n",
    "def cargar_datos_entrenamiento(ruta_archivo):\n",
    "    datos = pd.read_csv(ruta_archivo)\n",
    "    datos = datos.drop(columns=['fecha', 'descripcion', 'cuenta_origen', 'cuenta_destino'])\n",
    "    datos = pd.get_dummies(datos, columns=['pais_procedencia', 'pais_remitente', 'tipo_origen', 'tipo_destino'])\n",
    "    X = datos.drop(columns=['fraude'])\n",
    "    y = datos['fraude']\n",
    "    X_train, X_test, y_train, y_test = train_test_split(X, y, test_size=0.2, random_state=42)\n",
    "    return X_train, X_test, y_train, y_test\n",
    "\n",
    "def entrenar_modelo_rf(X_train, y_train):\n",
    "    modelo = RandomForestClassifier(n_estimators=200, random_state=42)\n",
    "    modelo.fit(X_train, y_train)\n",
    "    return modelo\n",
    "\n",
    "def evaluar_modelo_rf(modelo, X_test, y_test):\n",
    "    y_pred = modelo.predict(X_test)\n",
    "    print(\"Reporte de clasificación para RandomForestClassifier:\")\n",
    "    print(classification_report(y_test, y_pred))\n",
    "\n",
    "def main_rf():\n",
    "    ruta_archivo = 'entrenamiento.csv'\n",
    "    X_train, X_test, y_train, y_test = cargar_datos_entrenamiento(ruta_archivo)\n",
    "    modelo = entrenar_modelo_rf(X_train, y_train)\n",
    "    evaluar_modelo_rf(modelo, X_test, y_test)\n",
    "    joblib.dump(modelo, 'random_forest_model.pkl')  # Guardar el modelo\n",
    "\n",
    "    # Guardar las características del conjunto de entrenamiento\n",
    "    feature_names = X_train.columns\n",
    "    joblib.dump(feature_names, 'feature_names.pkl')  # Guardar las características\n",
    "\n",
    "if __name__ == \"__main__\":\n",
    "    main_rf()\n"
   ]
  }
 ],
 "metadata": {
  "kernelspec": {
   "display_name": "Python 3",
   "language": "python",
   "name": "python3"
  },
  "language_info": {
   "codemirror_mode": {
    "name": "ipython",
    "version": 3
   },
   "file_extension": ".py",
   "mimetype": "text/x-python",
   "name": "python",
   "nbconvert_exporter": "python",
   "pygments_lexer": "ipython3",
   "version": "3.10.11"
  }
 },
 "nbformat": 4,
 "nbformat_minor": 5
}
